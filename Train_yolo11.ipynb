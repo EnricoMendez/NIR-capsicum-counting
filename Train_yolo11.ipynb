{
  "cells": [
    {
      "cell_type": "markdown",
      "metadata": {
        "id": "9pERTRchTeCB"
      },
      "source": [
        "# Initial setup of dependencies"
      ]
    },
    {
      "cell_type": "markdown",
      "metadata": {},
      "source": [
        "\n",
        "### Author: Enrico Mendez\n",
        "### Date: 03 April 2025\n",
        "### Description of the Code:\n",
        "\n",
        "This Jupyter Notebook demonstrates the process of training a YOLO (You Only Look Once) model for object detection using a custom dataset. This code was developped for Python 3.11.11 and `ultralytics 8.3.101` and `roboflow 1.1.60` libraries. Below is a summary of the workflow:\n",
        "\n",
        "1. **Initial Setup**: \n",
        "    - Dependencies are installed and imported, including `ultralytics` for YOLO and `roboflow` for dataset management.\n",
        "    - Google Drive is mounted to save and retrieve files.\n",
        "\n",
        "2. **Dataset Import**:\n",
        "    - The dataset is downloaded from Roboflow using the API key and project details.\n",
        "    - The dataset is prepared for training by specifying the path to the `data.yaml` file.\n",
        "\n",
        "3. **Model Training**:\n",
        "    - A pre-trained YOLO model is loaded, and training is performed on the custom dataset.\n",
        "    - Training parameters such as epochs, batch size, and image size are configured.\n",
        "\n",
        "4. **Saving Results**:\n",
        "    - Training results are copied to Google Drive for backup and further analysis.\n",
        "\n",
        "5. **Validation**:\n",
        "    - The trained model is validated using the dataset to evaluate its performance.\n",
        "    - Validation results are also saved to Google Drive.\n",
        "\n",
        "6. **Optional Deployment**:\n",
        "    - The trained weights can be uploaded to Roboflow for deployment or further use.\n",
        "\n",
        "This workflow is designed to streamline the process of training and validating a YOLO model for object detection tasks, leveraging the integration of Roboflow and Google Drive for efficient dataset management and result storage.\n"
      ]
    },
    {
      "cell_type": "code",
      "execution_count": null,
      "metadata": {
        "colab": {
          "base_uri": "https://localhost:8080/"
        },
        "id": "e6aZ_Bzb7rgQ",
        "outputId": "804542d8-3a54-43f8-dddd-a085e182aeb8"
      },
      "outputs": [],
      "source": [
        "# Run this cell if you are using Google Colab\n",
        "\n",
        "from google.colab import drive\n",
        "drive.mount('/content/drive')"
      ]
    },
    {
      "cell_type": "code",
      "execution_count": null,
      "metadata": {
        "collapsed": true,
        "id": "tdRa7p8fSdBP"
      },
      "outputs": [],
      "source": [
        "# Install the required packages\n",
        "\n",
        "!pip install ultralytics\n",
        "!pip install roboflow"
      ]
    },
    {
      "cell_type": "code",
      "execution_count": null,
      "metadata": {
        "id": "ERunrbwlIh0m"
      },
      "outputs": [],
      "source": [
        "# Import the required libraries\n",
        "from roboflow import Roboflow\n",
        "from ultralytics import YOLO\n",
        "import ultralytics\n",
        "from datetime import datetime\n",
        "import shutil\n",
        "\n",
        "# Set the Roboflow API key\n",
        "# Make sure to set your Roboflow API key in the environment variables\n",
        "# If you are not using Google Colab, you can set it using the following command:\n",
        "# Roboflow_api_key='YOUR_ROBOFLOW_API_KEY'\n",
        "from google.colab import userdata         \n",
        "Roboflow_api_key = userdata.get('Roboflow_api_key')\n",
        "\n",
        "\n",
        "ultralytics.checks()"
      ]
    },
    {
      "cell_type": "markdown",
      "metadata": {
        "id": "wbniG2SiioXy"
      },
      "source": [
        "# Import dataset"
      ]
    },
    {
      "cell_type": "code",
      "execution_count": null,
      "metadata": {
        "id": "QOM7NNrzT6Bm"
      },
      "outputs": [],
      "source": [
        "# Download the dataset from Roboflow\n",
        "rf = Roboflow(api_key=Roboflow_api_key)\n",
        "project = rf.workspace(\"enrico-mendez-research-s9yeb\").project(\"capsicum-ir-box\")\n",
        "version = project.version(18)\n",
        "dataset = version.download(\"yolov11\")    "
      ]
    },
    {
      "cell_type": "markdown",
      "metadata": {
        "id": "ktKk3zpqi3eu"
      },
      "source": [
        "# Train"
      ]
    },
    {
      "cell_type": "code",
      "execution_count": null,
      "metadata": {
        "id": "VHUnlCl-HHcH"
      },
      "outputs": [],
      "source": [
        "dataset_path = dataset.location + \"/data.yaml\"\n",
        "print(dataset_path)\n",
        "model = YOLO(\"yolo11n.pt\")\n",
        "\n",
        "## If you want to continue training from a previous checkpoint, uncomment the following lines:\n",
        "# model_path = \"/content/drive/MyDrive/maturity_11n_v1/weights/last.pt\"\n",
        "# model = YOLO(model_path)"
      ]
    },
    {
      "cell_type": "code",
      "execution_count": null,
      "metadata": {
        "id": "shwGF9fm0xwU"
      },
      "outputs": [],
      "source": [
        "# Train the model\n",
        "results = model.train(data=dataset_path, epochs=500, batch = 0.9, cache='ram', imgsz = 1280, patience = 100)"
      ]
    },
    {
      "cell_type": "code",
      "execution_count": null,
      "metadata": {
        "id": "J8XNSQExfZCm"
      },
      "outputs": [],
      "source": [
        "# Copy results to Google drive\n",
        "import shutil\n",
        "model_name = \"yolo_11n\"     # Model name\n",
        "dataset_name = \"2v1\"         # Dataset name   \n",
        "\n",
        "folder_name = f\"{model_name}_{dataset_name}\" \n",
        "\n",
        "results_path = '/content/runs/detect/train'\n",
        "shutil.copytree(results_path, f'/content/drive/My Drive/{folder_name}')"
      ]
    },
    {
      "cell_type": "markdown",
      "metadata": {},
      "source": [
        "# Validate model"
      ]
    },
    {
      "cell_type": "code",
      "execution_count": null,
      "metadata": {
        "id": "SjDVb3IP2c4o"
      },
      "outputs": [],
      "source": [
        "# Validate\n",
        "\n",
        "model_path = \"/content/v18n.pt\"\n",
        "model = YOLO(model_path)\n",
        "dataset_path = dataset.location + \"/data.yaml\"\n",
        "val = model.val(data = dataset_path)"
      ]
    },
    {
      "cell_type": "code",
      "execution_count": null,
      "metadata": {
        "id": "tY2dN98R3ARS"
      },
      "outputs": [],
      "source": [
        "# Copy validation results to Google drive\n",
        "nombre_carpeta = \"validation\"\n",
        "results_path = '/content/runs/detect/val'\n",
        "shutil.copytree(results_path, f'/content/drive/My Drive/{nombre_carpeta}')"
      ]
    },
    {
      "cell_type": "markdown",
      "metadata": {
        "id": "jkAKBa0-cL9F"
      },
      "source": [
        "# Upload wieghts"
      ]
    },
    {
      "cell_type": "code",
      "execution_count": null,
      "metadata": {
        "id": "SwsS9rAjcPMV"
      },
      "outputs": [],
      "source": [
        "# Upload the model weights to roboflow\n",
        "rf = Roboflow(api_key=Roboflow_api_key)\n",
        "project = rf.workspace(\"enrico-mendez-research-s9yeb\").project(\"capsicum-ir-box\")\n",
        "version = project.version(18)\n",
        "path = results.save_dir\n",
        "weights_filename = \"weights/best.pt\"\n",
        "version.deploy(\"yolo11\",path, weights_filename)"
      ]
    }
  ],
  "metadata": {
    "accelerator": "GPU",
    "colab": {
      "gpuType": "A100",
      "machine_shape": "hm",
      "provenance": []
    },
    "kernelspec": {
      "display_name": "ultra",
      "language": "python",
      "name": "python3"
    },
    "language_info": {
      "codemirror_mode": {
        "name": "ipython",
        "version": 3
      },
      "file_extension": ".py",
      "mimetype": "text/x-python",
      "name": "python",
      "nbconvert_exporter": "python",
      "pygments_lexer": "ipython3",
      "version": "3.11.10"
    }
  },
  "nbformat": 4,
  "nbformat_minor": 0
}
